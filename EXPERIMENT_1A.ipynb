{
  "nbformat": 4,
  "nbformat_minor": 0,
  "metadata": {
    "colab": {
      "provenance": [],
      "authorship_tag": "ABX9TyOCJtTBYiIHAa16aE9WY1bl",
      "include_colab_link": true
    },
    "kernelspec": {
      "name": "python3",
      "display_name": "Python 3"
    },
    "language_info": {
      "name": "python"
    }
  },
  "cells": [
    {
      "cell_type": "markdown",
      "metadata": {
        "id": "view-in-github",
        "colab_type": "text"
      },
      "source": [
        "<a href=\"https://colab.research.google.com/github/m24ds001/ADSA-LAB-PROGRAMS/blob/main/EXPERIMENT_1A.ipynb\" target=\"_parent\"><img src=\"https://colab.research.google.com/assets/colab-badge.svg\" alt=\"Open In Colab\"/></a>"
      ]
    },
    {
      "cell_type": "code",
      "source": [
        "class Stack:\n",
        "    # Constructor\n",
        "    def __init__(self):\n",
        "        self.stack = list()\n",
        "        self.maxsize = 8\n",
        "        self.top = 0\n",
        "\n",
        "    # Add elements into the stack\n",
        "    def push(self, data):\n",
        "        if self.top >= self.maxsize:\n",
        "            return \"Stack Full\"\n",
        "        self.stack.append(data)\n",
        "        self.top += 1\n",
        "        return True\n",
        "\n",
        "    # Delete element from stack\n",
        "    def pop(self):\n",
        "        if self.top <= 0:\n",
        "            return \"Stack is Empty\"\n",
        "        item = self.stack.pop()\n",
        "        self.top -= 1\n",
        "        return item\n",
        "\n",
        "    # Size of the stack\n",
        "    def size(self):\n",
        "        return self.top\n",
        "\n",
        "s = Stack()\n",
        "print(s.push(1))  # True\n",
        "print(s.push(2))  # True\n",
        "print(s.push(3))  # True\n",
        "print(s.push(4))  # True\n",
        "print(s.push(5))  # True\n",
        "print(s.push(6))  # True\n",
        "print(s.push(7))  # True\n",
        "print(s.push(8))  # True\n",
        "print(s.push(9))  # Stack Full\n",
        "print(s.size())  # 8\n",
        "print(s.pop())  # 8\n",
        "print(s.pop())  # 7\n",
        "print(s.pop())  # 6\n",
        "print(s.pop())  # 5\n",
        "print(s.pop())  # 4\n",
        "print(s.pop())  # 3\n",
        "print(s.pop())  # 2\n",
        "print(s.pop())  # 1\n",
        "print(s.pop())  # Stack is empty"
      ],
      "metadata": {
        "colab": {
          "base_uri": "https://localhost:8080/"
        },
        "id": "YJc0geVTwosR",
        "outputId": "a0022ca2-4c7c-4532-f5b4-16ae86de37b3"
      },
      "execution_count": 3,
      "outputs": [
        {
          "output_type": "stream",
          "name": "stdout",
          "text": [
            "True\n",
            "True\n",
            "True\n",
            "True\n",
            "True\n",
            "True\n",
            "True\n",
            "True\n",
            "Stack Full\n",
            "8\n",
            "8\n",
            "7\n",
            "6\n",
            "5\n",
            "4\n",
            "3\n",
            "2\n",
            "1\n",
            "Stack is Empty\n"
          ]
        }
      ]
    },
    {
      "cell_type": "code",
      "source": [],
      "metadata": {
        "id": "wxLEbfxvwovD"
      },
      "execution_count": null,
      "outputs": []
    }
  ]
}